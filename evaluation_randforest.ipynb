{
 "cells": [
  {
   "cell_type": "markdown",
   "id": "6afa8d6a",
   "metadata": {},
   "source": [
    "# Decision tree classifier evaluation (clustered data)"
   ]
  },
  {
   "cell_type": "code",
   "execution_count": 1,
   "id": "b332621d",
   "metadata": {},
   "outputs": [],
   "source": [
    "from os.path import join\n",
    "import numpy as np\n",
    "from validation import BinarizedModelValidation\n",
    "from color_map.color_map_segm_model import ColorMapModel\n",
    "from ml_models.global_params import fid\n",
    "from ml_models.one_shot_random_forest import OSRandomForest\n",
    "from sklearn import tree\n",
    "from typing import Optional"
   ]
  },
  {
   "cell_type": "code",
   "execution_count": 2,
   "id": "5e39df3d",
   "metadata": {},
   "outputs": [],
   "source": [
    "%matplotlib inline"
   ]
  },
  {
   "cell_type": "code",
   "execution_count": null,
   "id": "c39fb0ed",
   "metadata": {},
   "outputs": [],
   "source": [
    "IMG_RES = '224x224'"
   ]
  },
  {
   "cell_type": "code",
   "execution_count": 3,
   "id": "fcfa4301",
   "metadata": {},
   "outputs": [],
   "source": [
    "def _print(title, metrics):\n",
    "    print()\n",
    "    print(title)\n",
    "    for key in metrics:\n",
    "        print('{} = {:.4f}'.format(key, metrics[key]))"
   ]
  },
  {
   "cell_type": "code",
   "execution_count": 4,
   "id": "2324d06c",
   "metadata": {},
   "outputs": [],
   "source": [
    "def compute_random_forest(*, n_estimators: int = 10, criterion: str = 'gini', max_depth: Optional[int] = None):\n",
    "    train_X = np.load(join('datasets', '224x224_anim10', 'train', 'features.npy'))\n",
    "    train_Y = np.load(join('datasets', '224x224_anim10', 'train', 'output.npy'))\n",
    "    forest = OSRandomForest(\n",
    "        f'forest_{criterion}_maxdepth_{max_depth}',\n",
    "        train_x=train_X,\n",
    "        train_y=train_Y,\n",
    "        n_estimators=n_estimators,\n",
    "        criterion=criterion,\n",
    "        max_depth=max_depth\n",
    "    )\n",
    "    for variant in ['train', 'test', 'train_test']:\n",
    "        _print(f'{variant} | 224x224_anim10', BinarizedModelValidation(\n",
    "            dataset_path=f'datasets/224x224_anim10/{variant}',\n",
    "            segmentation_model=forest\n",
    "        ).get_metrics())\n",
    "    return forest"
   ]
  },
  {
   "cell_type": "markdown",
   "id": "733d1bc7",
   "metadata": {},
   "source": [
    "## Simple Dtree"
   ]
  },
  {
   "cell_type": "code",
   "execution_count": null,
   "id": "049b191b",
   "metadata": {},
   "outputs": [
    {
     "name": "stderr",
     "output_type": "stream",
     "text": [
      "100%|██████████| 21/21 [03:45<00:00, 10.72s/it]\n",
      "  0%|          | 0/15 [00:00<?, ?it/s]"
     ]
    },
    {
     "name": "stdout",
     "output_type": "stream",
     "text": [
      "\n",
      "train | 224x224_anim10\n",
      "Mult IOU mean = 0.3128\n",
      "Mult IOU std = 0.3952\n",
      "Bin IOU mean = 0.2016\n",
      "Bin IOU std = 0.3780\n",
      "Bin miss-rate mean = 0.4180\n",
      "Bin miss-rate std = 0.4895\n",
      "Red miss-rate mean = 0.2562\n",
      "Red miss-rate std = 0.4365\n",
      "Orange miss-rate mean = 0.1240\n",
      "Orange miss-rate std = 0.3295\n",
      "Yellow miss-rate mean = 0.3916\n",
      "Yellow miss-rate std = 0.4872\n"
     ]
    },
    {
     "name": "stderr",
     "output_type": "stream",
     "text": [
      "100%|██████████| 15/15 [02:38<00:00, 10.58s/it]\n",
      "  0%|          | 0/36 [00:00<?, ?it/s]"
     ]
    },
    {
     "name": "stdout",
     "output_type": "stream",
     "text": [
      "\n",
      "test | 224x224_anim10\n",
      "Mult IOU mean = 0.0420\n",
      "Mult IOU std = 0.1199\n",
      "Bin IOU mean = 0.0039\n",
      "Bin IOU std = 0.0137\n",
      "Bin miss-rate mean = 0.6990\n",
      "Bin miss-rate std = 0.4507\n",
      "Red miss-rate mean = 0.6744\n",
      "Red miss-rate std = 0.4686\n",
      "Orange miss-rate mean = 0.2035\n",
      "Orange miss-rate std = 0.4026\n",
      "Yellow miss-rate mean = 0.6683\n",
      "Yellow miss-rate std = 0.4705\n"
     ]
    },
    {
     "name": "stderr",
     "output_type": "stream",
     "text": [
      "  6%|▌         | 2/36 [00:43<10:43, 18.92s/it]"
     ]
    }
   ],
   "source": [
    "forest_5_5 = compute_random_forest(n_estimators=5, max_depth=5)"
   ]
  },
  {
   "cell_type": "code",
   "execution_count": null,
   "id": "81cac351",
   "metadata": {},
   "outputs": [],
   "source": []
  }
 ],
 "metadata": {
  "kernelspec": {
   "display_name": "Python 3 (ipykernel)",
   "language": "python",
   "name": "python3"
  },
  "language_info": {
   "codemirror_mode": {
    "name": "ipython",
    "version": 3
   },
   "file_extension": ".py",
   "mimetype": "text/x-python",
   "name": "python",
   "nbconvert_exporter": "python",
   "pygments_lexer": "ipython3",
   "version": "3.10.4"
  }
 },
 "nbformat": 4,
 "nbformat_minor": 5
}
