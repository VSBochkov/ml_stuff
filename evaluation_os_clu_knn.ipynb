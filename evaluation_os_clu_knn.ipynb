{
 "cells": [
  {
   "cell_type": "markdown",
   "id": "f24b7ebd",
   "metadata": {},
   "source": [
    "# Evaluation of different ML models"
   ]
  },
  {
   "cell_type": "code",
   "execution_count": 1,
   "id": "408ced5a",
   "metadata": {},
   "outputs": [],
   "source": [
    "from os.path import join\n",
    "import numpy as np\n",
    "from validation import BinarizedModelValidation\n",
    "from color_map.color_map_segm_model import ColorMapModel\n",
    "from ml_models.global_params import fid\n",
    "from ml_models.one_shot_knn import OneShotKNN\n",
    "# from ml_models.two_shot_knn import TwoShotKNN"
   ]
  },
  {
   "cell_type": "code",
   "execution_count": 2,
   "id": "7402353a",
   "metadata": {},
   "outputs": [],
   "source": [
    "def _print(title, metrics):\n",
    "    print()\n",
    "    print(title)\n",
    "    for key in metrics:\n",
    "        print('{} = {:.4f}'.format(key, metrics[key]))"
   ]
  },
  {
   "cell_type": "code",
   "execution_count": 3,
   "id": "562f7871",
   "metadata": {},
   "outputs": [],
   "source": [
    "def compute_oneshot_knn(nn: int, weights: str):\n",
    "    for variant in ['train', 'test', 'train_test']:\n",
    "        train_X = np.load(join('datasets', '224x224_anim10', 'cluster_train', 'features.npy'))\n",
    "        train_Y = np.load(join('datasets', '224x224_anim10', 'cluster_train', 'output.npy'))\n",
    "        _print(f'{variant} | 224x224_anim10', BinarizedModelValidation(\n",
    "            dataset_path=f'datasets/224x224_anim10/{variant}',\n",
    "            segmentation_model=OneShotKNN(\n",
    "                f'one-shot_knn_clu_224x224[{nn}_{weights}]', \n",
    "                num_neighb=nn, \n",
    "                weights_type=weights,\n",
    "                train_x=train_X,\n",
    "                train_y=train_Y\n",
    "            )\n",
    "        ).get_metrics())"
   ]
  },
  {
   "cell_type": "markdown",
   "id": "73076b49",
   "metadata": {},
   "source": [
    "### One-shot KNN classifier"
   ]
  },
  {
   "cell_type": "markdown",
   "id": "bd667db6",
   "metadata": {},
   "source": [
    "#### 1. NN=3"
   ]
  },
  {
   "cell_type": "code",
   "execution_count": 4,
   "id": "e29eecd6",
   "metadata": {},
   "outputs": [
    {
     "name": "stderr",
     "output_type": "stream",
     "text": [
      "100%|██████████| 21/21 [13:29<00:00, 38.53s/it]\n",
      "  0%|          | 0/15 [00:00<?, ?it/s]"
     ]
    },
    {
     "name": "stdout",
     "output_type": "stream",
     "text": [
      "\n",
      "train | 224x224_anim10\n",
      "Mult IOU mean = 0.1314\n",
      "Mult IOU std = 0.1607\n",
      "Bin IOU mean = 0.0265\n",
      "Bin IOU std = 0.0425\n",
      "Bin miss-rate mean = 0.9730\n",
      "Bin miss-rate std = 0.0435\n",
      "Red miss-rate mean = 0.8987\n",
      "Red miss-rate std = 0.1544\n",
      "Orange miss-rate mean = 0.2645\n",
      "Orange miss-rate std = 0.4410\n",
      "Yellow miss-rate mean = 0.9925\n",
      "Yellow miss-rate std = 0.0116\n"
     ]
    },
    {
     "name": "stderr",
     "output_type": "stream",
     "text": [
      "100%|██████████| 15/15 [09:48<00:00, 39.24s/it]\n",
      "  0%|          | 0/36 [00:00<?, ?it/s]"
     ]
    },
    {
     "name": "stdout",
     "output_type": "stream",
     "text": [
      "\n",
      "test | 224x224_anim10\n",
      "Mult IOU mean = 0.0359\n",
      "Mult IOU std = 0.0604\n",
      "Bin IOU mean = 0.0824\n",
      "Bin IOU std = 0.0784\n",
      "Bin miss-rate mean = 0.9140\n",
      "Bin miss-rate std = 0.0850\n",
      "Red miss-rate mean = 0.8427\n",
      "Red miss-rate std = 0.1785\n",
      "Orange miss-rate mean = 0.4190\n",
      "Orange miss-rate std = 0.4876\n",
      "Yellow miss-rate mean = 0.9772\n",
      "Yellow miss-rate std = 0.0272\n"
     ]
    },
    {
     "name": "stderr",
     "output_type": "stream",
     "text": [
      "100%|██████████| 36/36 [23:08<00:00, 38.56s/it]  "
     ]
    },
    {
     "name": "stdout",
     "output_type": "stream",
     "text": [
      "\n",
      "train_test | 224x224_anim10\n",
      "Mult IOU mean = 0.0917\n",
      "Mult IOU std = 0.1372\n",
      "Bin IOU mean = 0.0498\n",
      "Bin IOU std = 0.0661\n",
      "Bin miss-rate mean = 0.9484\n",
      "Bin miss-rate std = 0.0704\n",
      "Red miss-rate mean = 0.8754\n",
      "Red miss-rate std = 0.1671\n",
      "Orange miss-rate mean = 0.3287\n",
      "Orange miss-rate std = 0.4672\n",
      "Yellow miss-rate mean = 0.9862\n",
      "Yellow miss-rate std = 0.0210\n"
     ]
    },
    {
     "name": "stderr",
     "output_type": "stream",
     "text": [
      "\n"
     ]
    }
   ],
   "source": [
    "compute_oneshot_knn(nn=3, weights='uniform')"
   ]
  },
  {
   "cell_type": "code",
   "execution_count": 5,
   "id": "c9469586",
   "metadata": {},
   "outputs": [
    {
     "name": "stderr",
     "output_type": "stream",
     "text": [
      "100%|██████████| 21/21 [09:11<00:00, 26.24s/it]\n",
      "  0%|          | 0/15 [00:00<?, ?it/s]"
     ]
    },
    {
     "name": "stdout",
     "output_type": "stream",
     "text": [
      "\n",
      "train | 224x224_anim10\n",
      "Mult IOU mean = 0.1308\n",
      "Mult IOU std = 0.1597\n",
      "Bin IOU mean = 0.0267\n",
      "Bin IOU std = 0.0427\n",
      "Bin miss-rate mean = 0.9729\n",
      "Bin miss-rate std = 0.0436\n",
      "Red miss-rate mean = 0.9003\n",
      "Red miss-rate std = 0.1524\n",
      "Orange miss-rate mean = 0.2727\n",
      "Orange miss-rate std = 0.4454\n",
      "Yellow miss-rate mean = 0.9925\n",
      "Yellow miss-rate std = 0.0116\n"
     ]
    },
    {
     "name": "stderr",
     "output_type": "stream",
     "text": [
      "100%|██████████| 15/15 [06:38<00:00, 26.57s/it]\n",
      "  0%|          | 0/36 [00:00<?, ?it/s]"
     ]
    },
    {
     "name": "stdout",
     "output_type": "stream",
     "text": [
      "\n",
      "test | 224x224_anim10\n",
      "Mult IOU mean = 0.0334\n",
      "Mult IOU std = 0.0542\n",
      "Bin IOU mean = 0.0829\n",
      "Bin IOU std = 0.0791\n",
      "Bin miss-rate mean = 0.9136\n",
      "Bin miss-rate std = 0.0855\n",
      "Red miss-rate mean = 0.8444\n",
      "Red miss-rate std = 0.1770\n",
      "Orange miss-rate mean = 0.4598\n",
      "Orange miss-rate std = 0.4925\n",
      "Yellow miss-rate mean = 0.9772\n",
      "Yellow miss-rate std = 0.0272\n"
     ]
    },
    {
     "name": "stderr",
     "output_type": "stream",
     "text": [
      "100%|██████████| 36/36 [15:49<00:00, 26.38s/it]"
     ]
    },
    {
     "name": "stdout",
     "output_type": "stream",
     "text": [
      "\n",
      "train_test | 224x224_anim10\n",
      "Mult IOU mean = 0.0903\n",
      "Mult IOU std = 0.1358\n",
      "Bin IOU mean = 0.0500\n",
      "Bin IOU std = 0.0666\n",
      "Bin miss-rate mean = 0.9482\n",
      "Bin miss-rate std = 0.0707\n",
      "Red miss-rate mean = 0.8771\n",
      "Red miss-rate std = 0.1654\n",
      "Orange miss-rate mean = 0.3505\n",
      "Orange miss-rate std = 0.4746\n",
      "Yellow miss-rate mean = 0.9861\n",
      "Yellow miss-rate std = 0.0210\n"
     ]
    },
    {
     "name": "stderr",
     "output_type": "stream",
     "text": [
      "\n"
     ]
    }
   ],
   "source": [
    "compute_oneshot_knn(nn=3, weights='distance')"
   ]
  },
  {
   "cell_type": "markdown",
   "id": "b6586941",
   "metadata": {},
   "source": [
    "#### 2. NN=5"
   ]
  },
  {
   "cell_type": "code",
   "execution_count": 6,
   "id": "a42605c2",
   "metadata": {},
   "outputs": [
    {
     "name": "stderr",
     "output_type": "stream",
     "text": [
      "100%|██████████| 21/21 [13:43<00:00, 39.20s/it]\n",
      "  0%|          | 0/15 [00:00<?, ?it/s]"
     ]
    },
    {
     "name": "stdout",
     "output_type": "stream",
     "text": [
      "\n",
      "train | 224x224_anim10\n",
      "Mult IOU mean = 0.1291\n",
      "Mult IOU std = 0.1553\n",
      "Bin IOU mean = 0.0265\n",
      "Bin IOU std = 0.0423\n",
      "Bin miss-rate mean = 0.9729\n",
      "Bin miss-rate std = 0.0435\n",
      "Red miss-rate mean = 0.8973\n",
      "Red miss-rate std = 0.1548\n",
      "Orange miss-rate mean = 0.2521\n",
      "Orange miss-rate std = 0.4342\n",
      "Yellow miss-rate mean = 0.9926\n",
      "Yellow miss-rate std = 0.0115\n"
     ]
    },
    {
     "name": "stderr",
     "output_type": "stream",
     "text": [
      "100%|██████████| 15/15 [09:56<00:00, 39.78s/it]\n",
      "  0%|          | 0/36 [00:00<?, ?it/s]"
     ]
    },
    {
     "name": "stdout",
     "output_type": "stream",
     "text": [
      "\n",
      "test | 224x224_anim10\n",
      "Mult IOU mean = 0.0347\n",
      "Mult IOU std = 0.0554\n",
      "Bin IOU mean = 0.0831\n",
      "Bin IOU std = 0.0797\n",
      "Bin miss-rate mean = 0.9131\n",
      "Bin miss-rate std = 0.0867\n",
      "Red miss-rate mean = 0.8351\n",
      "Red miss-rate std = 0.1823\n",
      "Orange miss-rate mean = 0.4733\n",
      "Orange miss-rate std = 0.4920\n",
      "Yellow miss-rate mean = 0.9775\n",
      "Yellow miss-rate std = 0.0266\n"
     ]
    },
    {
     "name": "stderr",
     "output_type": "stream",
     "text": [
      "100%|██████████| 36/36 [23:40<00:00, 39.45s/it]  "
     ]
    },
    {
     "name": "stdout",
     "output_type": "stream",
     "text": [
      "\n",
      "train_test | 224x224_anim10\n",
      "Mult IOU mean = 0.0899\n",
      "Mult IOU std = 0.1324\n",
      "Bin IOU mean = 0.0500\n",
      "Bin IOU std = 0.0668\n",
      "Bin miss-rate mean = 0.9480\n",
      "Bin miss-rate std = 0.0714\n",
      "Red miss-rate mean = 0.8714\n",
      "Red miss-rate std = 0.1696\n",
      "Orange miss-rate mean = 0.3440\n",
      "Orange miss-rate std = 0.4719\n",
      "Yellow miss-rate mean = 0.9863\n",
      "Yellow miss-rate std = 0.0206\n"
     ]
    },
    {
     "name": "stderr",
     "output_type": "stream",
     "text": [
      "\n"
     ]
    }
   ],
   "source": [
    "compute_oneshot_knn(nn=5, weights='uniform')"
   ]
  },
  {
   "cell_type": "code",
   "execution_count": 7,
   "id": "b607cb52",
   "metadata": {},
   "outputs": [
    {
     "name": "stderr",
     "output_type": "stream",
     "text": [
      "100%|██████████| 21/21 [09:33<00:00, 27.29s/it]\n",
      "  0%|          | 0/15 [00:00<?, ?it/s]"
     ]
    },
    {
     "name": "stdout",
     "output_type": "stream",
     "text": [
      "\n",
      "train | 224x224_anim10\n",
      "Mult IOU mean = 0.1331\n",
      "Mult IOU std = 0.1642\n",
      "Bin IOU mean = 0.0267\n",
      "Bin IOU std = 0.0426\n",
      "Bin miss-rate mean = 0.9728\n",
      "Bin miss-rate std = 0.0436\n",
      "Red miss-rate mean = 0.8933\n",
      "Red miss-rate std = 0.1673\n",
      "Orange miss-rate mean = 0.2521\n",
      "Orange miss-rate std = 0.4342\n",
      "Yellow miss-rate mean = 0.9925\n",
      "Yellow miss-rate std = 0.0116\n"
     ]
    },
    {
     "name": "stderr",
     "output_type": "stream",
     "text": [
      "100%|██████████| 15/15 [07:00<00:00, 28.05s/it]\n",
      "  0%|          | 0/36 [00:00<?, ?it/s]"
     ]
    },
    {
     "name": "stdout",
     "output_type": "stream",
     "text": [
      "\n",
      "test | 224x224_anim10\n",
      "Mult IOU mean = 0.0324\n",
      "Mult IOU std = 0.0529\n",
      "Bin IOU mean = 0.0832\n",
      "Bin IOU std = 0.0797\n",
      "Bin miss-rate mean = 0.9133\n",
      "Bin miss-rate std = 0.0860\n",
      "Red miss-rate mean = 0.8430\n",
      "Red miss-rate std = 0.1810\n",
      "Orange miss-rate mean = 0.4715\n",
      "Orange miss-rate std = 0.4934\n",
      "Yellow miss-rate mean = 0.9771\n",
      "Yellow miss-rate std = 0.0271\n"
     ]
    },
    {
     "name": "stderr",
     "output_type": "stream",
     "text": [
      "100%|██████████| 36/36 [16:31<00:00, 27.54s/it]"
     ]
    },
    {
     "name": "stdout",
     "output_type": "stream",
     "text": [
      "\n",
      "train_test | 224x224_anim10\n",
      "Mult IOU mean = 0.0913\n",
      "Mult IOU std = 0.1392\n",
      "Bin IOU mean = 0.0502\n",
      "Bin IOU std = 0.0669\n",
      "Bin miss-rate mean = 0.9481\n",
      "Bin miss-rate std = 0.0711\n",
      "Red miss-rate mean = 0.8724\n",
      "Red miss-rate std = 0.1749\n",
      "Orange miss-rate mean = 0.3432\n",
      "Orange miss-rate std = 0.4722\n",
      "Yellow miss-rate mean = 0.9861\n",
      "Yellow miss-rate std = 0.0210\n"
     ]
    },
    {
     "name": "stderr",
     "output_type": "stream",
     "text": [
      "\n"
     ]
    }
   ],
   "source": [
    "compute_oneshot_knn(nn=5, weights='distance')"
   ]
  },
  {
   "cell_type": "markdown",
   "id": "a360f667",
   "metadata": {},
   "source": [
    "#### 3. NN=7"
   ]
  },
  {
   "cell_type": "code",
   "execution_count": 8,
   "id": "1bff7340",
   "metadata": {},
   "outputs": [
    {
     "name": "stderr",
     "output_type": "stream",
     "text": [
      "100%|██████████| 21/21 [13:57<00:00, 39.90s/it]\n",
      "  0%|          | 0/15 [00:00<?, ?it/s]"
     ]
    },
    {
     "name": "stdout",
     "output_type": "stream",
     "text": [
      "\n",
      "train | 224x224_anim10\n",
      "Mult IOU mean = 0.1350\n",
      "Mult IOU std = 0.1684\n",
      "Bin IOU mean = 0.0270\n",
      "Bin IOU std = 0.0432\n",
      "Bin miss-rate mean = 0.9724\n",
      "Bin miss-rate std = 0.0444\n",
      "Red miss-rate mean = 0.8940\n",
      "Red miss-rate std = 0.1738\n",
      "Orange miss-rate mean = 0.2645\n",
      "Orange miss-rate std = 0.4410\n",
      "Yellow miss-rate mean = 0.9922\n",
      "Yellow miss-rate std = 0.0121\n"
     ]
    },
    {
     "name": "stderr",
     "output_type": "stream",
     "text": [
      "100%|██████████| 15/15 [10:09<00:00, 40.64s/it]\n",
      "  0%|          | 0/36 [00:00<?, ?it/s]"
     ]
    },
    {
     "name": "stdout",
     "output_type": "stream",
     "text": [
      "\n",
      "test | 224x224_anim10\n",
      "Mult IOU mean = 0.0340\n",
      "Mult IOU std = 0.0596\n",
      "Bin IOU mean = 0.0844\n",
      "Bin IOU std = 0.0802\n",
      "Bin miss-rate mean = 0.9118\n",
      "Bin miss-rate std = 0.0871\n",
      "Red miss-rate mean = 0.8481\n",
      "Red miss-rate std = 0.1803\n",
      "Orange miss-rate mean = 0.4669\n",
      "Orange miss-rate std = 0.4922\n",
      "Yellow miss-rate mean = 0.9759\n",
      "Yellow miss-rate std = 0.0293\n"
     ]
    },
    {
     "name": "stderr",
     "output_type": "stream",
     "text": [
      "100%|██████████| 36/36 [24:11<00:00, 40.32s/it]  "
     ]
    },
    {
     "name": "stdout",
     "output_type": "stream",
     "text": [
      "\n",
      "train_test | 224x224_anim10\n",
      "Mult IOU mean = 0.0930\n",
      "Mult IOU std = 0.1433\n",
      "Bin IOU mean = 0.0508\n",
      "Bin IOU std = 0.0676\n",
      "Bin miss-rate mean = 0.9472\n",
      "Bin miss-rate std = 0.0721\n",
      "Red miss-rate mean = 0.8749\n",
      "Red miss-rate std = 0.1779\n",
      "Orange miss-rate mean = 0.3486\n",
      "Orange miss-rate std = 0.4736\n",
      "Yellow miss-rate mean = 0.9854\n",
      "Yellow miss-rate std = 0.0225\n"
     ]
    },
    {
     "name": "stderr",
     "output_type": "stream",
     "text": [
      "\n"
     ]
    }
   ],
   "source": [
    "compute_oneshot_knn(nn=7, weights='uniform')"
   ]
  },
  {
   "cell_type": "code",
   "execution_count": 9,
   "id": "9111a08c",
   "metadata": {},
   "outputs": [
    {
     "name": "stderr",
     "output_type": "stream",
     "text": [
      "100%|██████████| 21/21 [09:52<00:00, 28.19s/it]\n",
      "  0%|          | 0/15 [00:00<?, ?it/s]"
     ]
    },
    {
     "name": "stdout",
     "output_type": "stream",
     "text": [
      "\n",
      "train | 224x224_anim10\n",
      "Mult IOU mean = 0.1339\n",
      "Mult IOU std = 0.1665\n",
      "Bin IOU mean = 0.0268\n",
      "Bin IOU std = 0.0429\n",
      "Bin miss-rate mean = 0.9726\n",
      "Bin miss-rate std = 0.0440\n",
      "Red miss-rate mean = 0.8940\n",
      "Red miss-rate std = 0.1739\n",
      "Orange miss-rate mean = 0.2645\n",
      "Orange miss-rate std = 0.4410\n",
      "Yellow miss-rate mean = 0.9923\n",
      "Yellow miss-rate std = 0.0120\n"
     ]
    },
    {
     "name": "stderr",
     "output_type": "stream",
     "text": [
      "100%|██████████| 15/15 [07:13<00:00, 28.91s/it]\n",
      "  0%|          | 0/36 [00:00<?, ?it/s]"
     ]
    },
    {
     "name": "stdout",
     "output_type": "stream",
     "text": [
      "\n",
      "test | 224x224_anim10\n",
      "Mult IOU mean = 0.0332\n",
      "Mult IOU std = 0.0583\n",
      "Bin IOU mean = 0.0841\n",
      "Bin IOU std = 0.0804\n",
      "Bin miss-rate mean = 0.9122\n",
      "Bin miss-rate std = 0.0870\n",
      "Red miss-rate mean = 0.8493\n",
      "Red miss-rate std = 0.1773\n",
      "Orange miss-rate mean = 0.4654\n",
      "Orange miss-rate std = 0.4932\n",
      "Yellow miss-rate mean = 0.9761\n",
      "Yellow miss-rate std = 0.0291\n"
     ]
    },
    {
     "name": "stderr",
     "output_type": "stream",
     "text": [
      "100%|██████████| 36/36 [17:07<00:00, 28.54s/it]"
     ]
    },
    {
     "name": "stdout",
     "output_type": "stream",
     "text": [
      "\n",
      "train_test | 224x224_anim10\n",
      "Mult IOU mean = 0.0921\n",
      "Mult IOU std = 0.1417\n",
      "Bin IOU mean = 0.0506\n",
      "Bin IOU std = 0.0675\n",
      "Bin miss-rate mean = 0.9475\n",
      "Bin miss-rate std = 0.0719\n",
      "Red miss-rate mean = 0.8755\n",
      "Red miss-rate std = 0.1767\n",
      "Orange miss-rate mean = 0.3479\n",
      "Orange miss-rate std = 0.4739\n",
      "Yellow miss-rate mean = 0.9856\n",
      "Yellow miss-rate std = 0.0224\n"
     ]
    },
    {
     "name": "stderr",
     "output_type": "stream",
     "text": [
      "\n"
     ]
    }
   ],
   "source": [
    "compute_oneshot_knn(nn=7, weights='distance')"
   ]
  },
  {
   "cell_type": "markdown",
   "id": "e8d95d01",
   "metadata": {},
   "source": [
    "#### 4. NN=9"
   ]
  },
  {
   "cell_type": "code",
   "execution_count": 10,
   "id": "885f6a42",
   "metadata": {},
   "outputs": [
    {
     "name": "stderr",
     "output_type": "stream",
     "text": [
      "100%|██████████| 21/21 [14:15<00:00, 40.74s/it]\n",
      "  0%|          | 0/15 [00:00<?, ?it/s]"
     ]
    },
    {
     "name": "stdout",
     "output_type": "stream",
     "text": [
      "\n",
      "train | 224x224_anim10\n",
      "Mult IOU mean = 0.1301\n",
      "Mult IOU std = 0.1565\n",
      "Bin IOU mean = 0.0270\n",
      "Bin IOU std = 0.0432\n",
      "Bin miss-rate mean = 0.9724\n",
      "Bin miss-rate std = 0.0445\n",
      "Red miss-rate mean = 0.8892\n",
      "Red miss-rate std = 0.1644\n",
      "Orange miss-rate mean = 0.2603\n",
      "Orange miss-rate std = 0.4388\n",
      "Yellow miss-rate mean = 0.9924\n",
      "Yellow miss-rate std = 0.0120\n"
     ]
    },
    {
     "name": "stderr",
     "output_type": "stream",
     "text": [
      "100%|██████████| 15/15 [10:23<00:00, 41.59s/it]\n",
      "  0%|          | 0/36 [00:00<?, ?it/s]"
     ]
    },
    {
     "name": "stdout",
     "output_type": "stream",
     "text": [
      "\n",
      "test | 224x224_anim10\n",
      "Mult IOU mean = 0.0378\n",
      "Mult IOU std = 0.0655\n",
      "Bin IOU mean = 0.0848\n",
      "Bin IOU std = 0.0804\n",
      "Bin miss-rate mean = 0.9112\n",
      "Bin miss-rate std = 0.0874\n",
      "Red miss-rate mean = 0.8206\n",
      "Red miss-rate std = 0.1948\n",
      "Orange miss-rate mean = 0.4499\n",
      "Orange miss-rate std = 0.4903\n",
      "Yellow miss-rate mean = 0.9755\n",
      "Yellow miss-rate std = 0.0307\n"
     ]
    },
    {
     "name": "stderr",
     "output_type": "stream",
     "text": [
      "100%|██████████| 36/36 [24:37<00:00, 41.03s/it]  "
     ]
    },
    {
     "name": "stdout",
     "output_type": "stream",
     "text": [
      "\n",
      "train_test | 224x224_anim10\n",
      "Mult IOU mean = 0.0917\n",
      "Mult IOU std = 0.1348\n",
      "Bin IOU mean = 0.0510\n",
      "Bin IOU std = 0.0677\n",
      "Bin miss-rate mean = 0.9470\n",
      "Bin miss-rate std = 0.0724\n",
      "Red miss-rate mean = 0.8607\n",
      "Red miss-rate std = 0.1808\n",
      "Orange miss-rate mean = 0.3391\n",
      "Orange miss-rate std = 0.4703\n",
      "Yellow miss-rate mean = 0.9854\n",
      "Yellow miss-rate std = 0.0233\n"
     ]
    },
    {
     "name": "stderr",
     "output_type": "stream",
     "text": [
      "\n"
     ]
    }
   ],
   "source": [
    "compute_oneshot_knn(nn=9, weights='uniform')"
   ]
  },
  {
   "cell_type": "code",
   "execution_count": 11,
   "id": "0e581ffa",
   "metadata": {},
   "outputs": [
    {
     "name": "stderr",
     "output_type": "stream",
     "text": [
      "100%|██████████| 21/21 [10:07<00:00, 28.91s/it]\n",
      "  0%|          | 0/15 [00:00<?, ?it/s]"
     ]
    },
    {
     "name": "stdout",
     "output_type": "stream",
     "text": [
      "\n",
      "train | 224x224_anim10\n",
      "Mult IOU mean = 0.1352\n",
      "Mult IOU std = 0.1684\n",
      "Bin IOU mean = 0.0270\n",
      "Bin IOU std = 0.0432\n",
      "Bin miss-rate mean = 0.9725\n",
      "Bin miss-rate std = 0.0443\n",
      "Red miss-rate mean = 0.8878\n",
      "Red miss-rate std = 0.1785\n",
      "Orange miss-rate mean = 0.2603\n",
      "Orange miss-rate std = 0.4388\n",
      "Yellow miss-rate mean = 0.9923\n",
      "Yellow miss-rate std = 0.0120\n"
     ]
    },
    {
     "name": "stderr",
     "output_type": "stream",
     "text": [
      "100%|██████████| 15/15 [07:25<00:00, 29.67s/it]\n",
      "  0%|          | 0/36 [00:00<?, ?it/s]"
     ]
    },
    {
     "name": "stdout",
     "output_type": "stream",
     "text": [
      "\n",
      "test | 224x224_anim10\n",
      "Mult IOU mean = 0.0348\n",
      "Mult IOU std = 0.0590\n",
      "Bin IOU mean = 0.0842\n",
      "Bin IOU std = 0.0802\n",
      "Bin miss-rate mean = 0.9121\n",
      "Bin miss-rate std = 0.0868\n",
      "Red miss-rate mean = 0.8359\n",
      "Red miss-rate std = 0.1882\n",
      "Orange miss-rate mean = 0.4490\n",
      "Orange miss-rate std = 0.4910\n",
      "Yellow miss-rate mean = 0.9754\n",
      "Yellow miss-rate std = 0.0309\n"
     ]
    },
    {
     "name": "stderr",
     "output_type": "stream",
     "text": [
      "100%|██████████| 36/36 [17:31<00:00, 29.20s/it]  "
     ]
    },
    {
     "name": "stdout",
     "output_type": "stream",
     "text": [
      "\n",
      "train_test | 224x224_anim10\n",
      "Mult IOU mean = 0.0935\n",
      "Mult IOU std = 0.1430\n",
      "Bin IOU mean = 0.0508\n",
      "Bin IOU std = 0.0675\n",
      "Bin miss-rate mean = 0.9474\n",
      "Bin miss-rate std = 0.0719\n",
      "Red miss-rate mean = 0.8662\n",
      "Red miss-rate std = 0.1844\n",
      "Orange miss-rate mean = 0.3387\n",
      "Orange miss-rate std = 0.4705\n",
      "Yellow miss-rate mean = 0.9853\n",
      "Yellow miss-rate std = 0.0234\n"
     ]
    },
    {
     "name": "stderr",
     "output_type": "stream",
     "text": [
      "\n"
     ]
    }
   ],
   "source": [
    "compute_oneshot_knn(nn=9, weights='distance')"
   ]
  },
  {
   "cell_type": "markdown",
   "id": "9ed02d3f",
   "metadata": {},
   "source": [
    "#### 5. NN=11"
   ]
  },
  {
   "cell_type": "code",
   "execution_count": 12,
   "id": "cf1d2440",
   "metadata": {},
   "outputs": [
    {
     "name": "stderr",
     "output_type": "stream",
     "text": [
      "100%|██████████| 21/21 [14:37<00:00, 41.77s/it]\n",
      "  0%|          | 0/15 [00:00<?, ?it/s]"
     ]
    },
    {
     "name": "stdout",
     "output_type": "stream",
     "text": [
      "\n",
      "train | 224x224_anim10\n",
      "Mult IOU mean = 0.1365\n",
      "Mult IOU std = 0.1706\n",
      "Bin IOU mean = 0.0271\n",
      "Bin IOU std = 0.0433\n",
      "Bin miss-rate mean = 0.9723\n",
      "Bin miss-rate std = 0.0445\n",
      "Red miss-rate mean = 0.8718\n",
      "Red miss-rate std = 0.2041\n",
      "Orange miss-rate mean = 0.2686\n",
      "Orange miss-rate std = 0.4432\n",
      "Yellow miss-rate mean = 0.9922\n",
      "Yellow miss-rate std = 0.0123\n"
     ]
    },
    {
     "name": "stderr",
     "output_type": "stream",
     "text": [
      "100%|██████████| 15/15 [10:36<00:00, 42.43s/it]\n",
      "  0%|          | 0/36 [00:00<?, ?it/s]"
     ]
    },
    {
     "name": "stdout",
     "output_type": "stream",
     "text": [
      "\n",
      "test | 224x224_anim10\n",
      "Mult IOU mean = 0.0375\n",
      "Mult IOU std = 0.0661\n",
      "Bin IOU mean = 0.0844\n",
      "Bin IOU std = 0.0800\n",
      "Bin miss-rate mean = 0.9117\n",
      "Bin miss-rate std = 0.0870\n",
      "Red miss-rate mean = 0.8172\n",
      "Red miss-rate std = 0.2078\n",
      "Orange miss-rate mean = 0.4510\n",
      "Orange miss-rate std = 0.4896\n",
      "Yellow miss-rate mean = 0.9737\n",
      "Yellow miss-rate std = 0.0354\n"
     ]
    },
    {
     "name": "stderr",
     "output_type": "stream",
     "text": [
      "100%|██████████| 36/36 [25:16<00:00, 42.13s/it]  "
     ]
    },
    {
     "name": "stdout",
     "output_type": "stream",
     "text": [
      "\n",
      "train_test | 224x224_anim10\n",
      "Mult IOU mean = 0.0954\n",
      "Mult IOU std = 0.1456\n",
      "Bin IOU mean = 0.0509\n",
      "Bin IOU std = 0.0675\n",
      "Bin miss-rate mean = 0.9471\n",
      "Bin miss-rate std = 0.0721\n",
      "Red miss-rate mean = 0.8491\n",
      "Red miss-rate std = 0.2074\n",
      "Orange miss-rate mean = 0.3444\n",
      "Orange miss-rate std = 0.4717\n",
      "Yellow miss-rate mean = 0.9845\n",
      "Yellow miss-rate std = 0.0263\n"
     ]
    },
    {
     "name": "stderr",
     "output_type": "stream",
     "text": [
      "\n"
     ]
    }
   ],
   "source": [
    "compute_oneshot_knn(nn=11, weights='uniform')"
   ]
  },
  {
   "cell_type": "code",
   "execution_count": 13,
   "id": "0fc2e2ac",
   "metadata": {},
   "outputs": [
    {
     "name": "stderr",
     "output_type": "stream",
     "text": [
      "100%|██████████| 21/21 [10:27<00:00, 29.90s/it]\n",
      "  0%|          | 0/15 [00:00<?, ?it/s]"
     ]
    },
    {
     "name": "stdout",
     "output_type": "stream",
     "text": [
      "\n",
      "train | 224x224_anim10\n",
      "Mult IOU mean = 0.1365\n",
      "Mult IOU std = 0.1718\n",
      "Bin IOU mean = 0.0268\n",
      "Bin IOU std = 0.0429\n",
      "Bin miss-rate mean = 0.9726\n",
      "Bin miss-rate std = 0.0440\n",
      "Red miss-rate mean = 0.8769\n",
      "Red miss-rate std = 0.1981\n",
      "Orange miss-rate mean = 0.2603\n",
      "Orange miss-rate std = 0.4388\n",
      "Yellow miss-rate mean = 0.9922\n",
      "Yellow miss-rate std = 0.0122\n"
     ]
    },
    {
     "name": "stderr",
     "output_type": "stream",
     "text": [
      "100%|██████████| 15/15 [07:40<00:00, 30.68s/it]\n",
      "  0%|          | 0/36 [00:00<?, ?it/s]"
     ]
    },
    {
     "name": "stdout",
     "output_type": "stream",
     "text": [
      "\n",
      "test | 224x224_anim10\n",
      "Mult IOU mean = 0.0354\n",
      "Mult IOU std = 0.0626\n",
      "Bin IOU mean = 0.0837\n",
      "Bin IOU std = 0.0797\n",
      "Bin miss-rate mean = 0.9126\n",
      "Bin miss-rate std = 0.0864\n",
      "Red miss-rate mean = 0.8289\n",
      "Red miss-rate std = 0.1960\n",
      "Orange miss-rate mean = 0.4552\n",
      "Orange miss-rate std = 0.4913\n",
      "Yellow miss-rate mean = 0.9738\n",
      "Yellow miss-rate std = 0.0354\n"
     ]
    },
    {
     "name": "stderr",
     "output_type": "stream",
     "text": [
      "100%|██████████| 36/36 [18:07<00:00, 30.22s/it]  "
     ]
    },
    {
     "name": "stdout",
     "output_type": "stream",
     "text": [
      "\n",
      "train_test | 224x224_anim10\n",
      "Mult IOU mean = 0.0945\n",
      "Mult IOU std = 0.1461\n",
      "Bin IOU mean = 0.0505\n",
      "Bin IOU std = 0.0671\n",
      "Bin miss-rate mean = 0.9477\n",
      "Bin miss-rate std = 0.0715\n",
      "Red miss-rate mean = 0.8570\n",
      "Red miss-rate std = 0.1986\n",
      "Orange miss-rate mean = 0.3413\n",
      "Orange miss-rate std = 0.4712\n",
      "Yellow miss-rate mean = 0.9845\n",
      "Yellow miss-rate std = 0.0263\n"
     ]
    },
    {
     "name": "stderr",
     "output_type": "stream",
     "text": [
      "\n"
     ]
    }
   ],
   "source": [
    "compute_oneshot_knn(nn=11, weights='distance')"
   ]
  },
  {
   "cell_type": "markdown",
   "id": "7f2fe05b",
   "metadata": {},
   "source": [
    "#### 6. NN=13"
   ]
  },
  {
   "cell_type": "code",
   "execution_count": 14,
   "id": "2140ab5b",
   "metadata": {},
   "outputs": [
    {
     "name": "stderr",
     "output_type": "stream",
     "text": [
      "100%|██████████| 21/21 [14:50<00:00, 42.41s/it]\n",
      "  0%|          | 0/15 [00:00<?, ?it/s]"
     ]
    },
    {
     "name": "stdout",
     "output_type": "stream",
     "text": [
      "\n",
      "train | 224x224_anim10\n",
      "Mult IOU mean = 0.1409\n",
      "Mult IOU std = 0.1817\n",
      "Bin IOU mean = 0.0271\n",
      "Bin IOU std = 0.0435\n",
      "Bin miss-rate mean = 0.9723\n",
      "Bin miss-rate std = 0.0447\n",
      "Red miss-rate mean = 0.8552\n",
      "Red miss-rate std = 0.2320\n",
      "Orange miss-rate mean = 0.2562\n",
      "Orange miss-rate std = 0.4365\n",
      "Yellow miss-rate mean = 0.9920\n",
      "Yellow miss-rate std = 0.0126\n"
     ]
    },
    {
     "name": "stderr",
     "output_type": "stream",
     "text": [
      "100%|██████████| 15/15 [10:47<00:00, 43.17s/it]\n",
      "  0%|          | 0/36 [00:00<?, ?it/s]"
     ]
    },
    {
     "name": "stdout",
     "output_type": "stream",
     "text": [
      "\n",
      "test | 224x224_anim10\n",
      "Mult IOU mean = 0.0374\n",
      "Mult IOU std = 0.0668\n",
      "Bin IOU mean = 0.0846\n",
      "Bin IOU std = 0.0800\n",
      "Bin miss-rate mean = 0.9114\n",
      "Bin miss-rate std = 0.0870\n",
      "Red miss-rate mean = 0.8124\n",
      "Red miss-rate std = 0.2114\n",
      "Orange miss-rate mean = 0.4325\n",
      "Orange miss-rate std = 0.4881\n",
      "Yellow miss-rate mean = 0.9727\n",
      "Yellow miss-rate std = 0.0377\n"
     ]
    },
    {
     "name": "stderr",
     "output_type": "stream",
     "text": [
      "100%|██████████| 36/36 [25:45<00:00, 42.92s/it]  "
     ]
    },
    {
     "name": "stdout",
     "output_type": "stream",
     "text": [
      "\n",
      "train_test | 224x224_anim10\n",
      "Mult IOU mean = 0.0979\n",
      "Mult IOU std = 0.1541\n",
      "Bin IOU mean = 0.0510\n",
      "Bin IOU std = 0.0676\n",
      "Bin miss-rate mean = 0.9470\n",
      "Bin miss-rate std = 0.0722\n",
      "Red miss-rate mean = 0.8375\n",
      "Red miss-rate std = 0.2247\n",
      "Orange miss-rate mean = 0.3295\n",
      "Orange miss-rate std = 0.4668\n",
      "Yellow miss-rate mean = 0.9840\n",
      "Yellow miss-rate std = 0.0278\n"
     ]
    },
    {
     "name": "stderr",
     "output_type": "stream",
     "text": [
      "\n"
     ]
    }
   ],
   "source": [
    "compute_oneshot_knn(nn=13, weights='uniform')"
   ]
  },
  {
   "cell_type": "code",
   "execution_count": 15,
   "id": "77f5188b",
   "metadata": {},
   "outputs": [
    {
     "name": "stderr",
     "output_type": "stream",
     "text": [
      "100%|██████████| 21/21 [10:43<00:00, 30.65s/it]\n",
      "  0%|          | 0/15 [00:00<?, ?it/s]"
     ]
    },
    {
     "name": "stdout",
     "output_type": "stream",
     "text": [
      "\n",
      "train | 224x224_anim10\n",
      "Mult IOU mean = 0.1403\n",
      "Mult IOU std = 0.1807\n",
      "Bin IOU mean = 0.0268\n",
      "Bin IOU std = 0.0430\n",
      "Bin miss-rate mean = 0.9726\n",
      "Bin miss-rate std = 0.0441\n",
      "Red miss-rate mean = 0.8702\n",
      "Red miss-rate std = 0.2079\n",
      "Orange miss-rate mean = 0.2686\n",
      "Orange miss-rate std = 0.4432\n",
      "Yellow miss-rate mean = 0.9921\n",
      "Yellow miss-rate std = 0.0124\n"
     ]
    },
    {
     "name": "stderr",
     "output_type": "stream",
     "text": [
      "100%|██████████| 15/15 [07:52<00:00, 31.48s/it]\n",
      "  0%|          | 0/36 [00:00<?, ?it/s]"
     ]
    },
    {
     "name": "stdout",
     "output_type": "stream",
     "text": [
      "\n",
      "test | 224x224_anim10\n",
      "Mult IOU mean = 0.0353\n",
      "Mult IOU std = 0.0628\n",
      "Bin IOU mean = 0.0837\n",
      "Bin IOU std = 0.0797\n",
      "Bin miss-rate mean = 0.9125\n",
      "Bin miss-rate std = 0.0865\n",
      "Red miss-rate mean = 0.8199\n",
      "Red miss-rate std = 0.2027\n",
      "Orange miss-rate mean = 0.4500\n",
      "Orange miss-rate std = 0.4902\n",
      "Yellow miss-rate mean = 0.9729\n",
      "Yellow miss-rate std = 0.0376\n"
     ]
    },
    {
     "name": "stderr",
     "output_type": "stream",
     "text": [
      "100%|██████████| 36/36 [18:35<00:00, 30.98s/it]  "
     ]
    },
    {
     "name": "stdout",
     "output_type": "stream",
     "text": [
      "\n",
      "train_test | 224x224_anim10\n",
      "Mult IOU mean = 0.0967\n",
      "Mult IOU std = 0.1530\n",
      "Bin IOU mean = 0.0505\n",
      "Bin IOU std = 0.0671\n",
      "Bin miss-rate mean = 0.9476\n",
      "Bin miss-rate std = 0.0715\n",
      "Red miss-rate mean = 0.8493\n",
      "Red miss-rate std = 0.2072\n",
      "Orange miss-rate mean = 0.3439\n",
      "Orange miss-rate std = 0.4719\n",
      "Yellow miss-rate mean = 0.9841\n",
      "Yellow miss-rate std = 0.0277\n"
     ]
    },
    {
     "name": "stderr",
     "output_type": "stream",
     "text": [
      "\n"
     ]
    }
   ],
   "source": [
    "compute_oneshot_knn(nn=13, weights='distance')"
   ]
  }
 ],
 "metadata": {
  "kernelspec": {
   "display_name": "Python 3",
   "language": "python",
   "name": "python3"
  },
  "language_info": {
   "codemirror_mode": {
    "name": "ipython",
    "version": 3
   },
   "file_extension": ".py",
   "mimetype": "text/x-python",
   "name": "python",
   "nbconvert_exporter": "python",
   "pygments_lexer": "ipython3",
   "version": "3.8.10"
  }
 },
 "nbformat": 4,
 "nbformat_minor": 5
}
